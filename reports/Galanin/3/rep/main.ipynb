{
 "cells": [
  {
   "cell_type": "markdown",
   "metadata": {},
   "source": [
    "# Лабораторная работа №3\n",
    "\n",
    "**Тема**: \"Нелинейные ИНС в задачах прогнозирования.\"\n",
    "\n",
    "**Цель работы**: \"Изучить обучение и функционирование нелинейной ИНС при решении задач прогнозирования.\""
   ]
  },
  {
   "cell_type": "code",
   "execution_count": 1,
   "metadata": {},
   "outputs": [],
   "source": [
    "import numpy as np\n",
    "import random\n",
    "import math\n",
    "import matplotlib.pyplot as plt\n",
    "\n",
    "class lab():\n",
    "    def __init__(self, a, b, c, d, step, L, Lhid, alpha, Ee):\n",
    "        self.a = a\n",
    "        self.b = b\n",
    "        self.c = c\n",
    "        self.d = d\n",
    "        self.step = step\n",
    "        self.L = L\n",
    "        self.Lhid = Lhid\n",
    "        self.alpha = alpha\n",
    "        self.Ee = Ee\n",
    "\n",
    "    def generate_etalons(self):\n",
    "        a = self.a\n",
    "        b = self.b\n",
    "        c = self.c\n",
    "        d = self.d\n",
    "        step = self.step\n",
    "        number = 30\n",
    "\n",
    "        etalons = np.zeros(number)\n",
    "        for i in range(number):\n",
    "            x = i * step\n",
    "            y = a * math.cos(b * x) + c * math.sin(d * x)\n",
    "            etalons[i] = y\n",
    "        return etalons\n",
    "\n",
    "    def SigmFunc(self, S):\n",
    "        y = 1 / (1 + math.exp(-S))\n",
    "        return y\n",
    "\n",
    "    def dSigmFunc(self, y):\n",
    "        dy = y * (1 - y)\n",
    "        return dy\n",
    "\n",
    "    def BiSigmFunc(self, S):\n",
    "        y = 2 / (1 + math.exp(-S)) - 1\n",
    "        return y\n",
    "\n",
    "    def dBiSigmFunc(self, y):\n",
    "        dy = 2 * (1 - y) * y\n",
    "        return dy\n",
    "\n",
    "    def HyperbolicTangent(self, S):\n",
    "        y = (math.exp(S) - math.exp(-S)) / (math.exp(S) + math.exp(-S))\n",
    "        return y\n",
    "\n",
    "    def dHyperbolicTangent(self, y):\n",
    "        y = 1 - y ** 2\n",
    "        return y\n",
    "\n",
    "    def alg(self, funcCase, graphMark, graphLabel):\n",
    "        e = self.generate_etalons()\n",
    "        L = self.L\n",
    "        Lhid = self.Lhid\n",
    "        alpha = self.alpha\n",
    "        Ee = self.Ee\n",
    "\n",
    "        # массив размером [L x Lhid] для весов от входа к скрытому слою\n",
    "        w = np.zeros((L, Lhid)) \n",
    "        for i in range(L):\n",
    "            for j in range(Lhid):\n",
    "                w[i][j] = random.uniform(0, 0.5)\n",
    "        # массив размером [Lhid x 1] для весов от скрытого слоя к выходу\n",
    "        ws = np.zeros(Lhid) \n",
    "        for i in range(Lhid):\n",
    "            ws[i] = random.uniform(0, 0.5)\n",
    "        # пороги от входов к срытому слою\n",
    "        T = np.zeros(Lhid) \n",
    "        for i in range(Lhid):\n",
    "            T[i] = random.uniform(0, 0.5)\n",
    "        # порог от скрытого слоя к выходу\n",
    "        Ts = random.uniform(0, 0.5) \n",
    "        # цикл\n",
    "        eras = 0\n",
    "        valueXforGraph = []\n",
    "        valueYforGraph = []\n",
    "        while 1:\n",
    "            for k in range(30 - L):\n",
    "                x = np.zeros(L)\n",
    "                for i in range(L):\n",
    "                    x[i] = e[i + k]\n",
    "                # S = [x] * [w] - [T]\n",
    "                S = x.dot(w) - T  \n",
    "\n",
    "                for i in range(Lhid):\n",
    "                    # [SigmFunc(S1), ..., SigmFunc(SLhid)]\n",
    "                    if funcCase == 1:\n",
    "                        S[i] = self.SigmFunc(S[i]) \n",
    "                    elif funcCase == 2:\n",
    "                        S[i] = self.BiSigmFunc(S[i])\n",
    "                    else:\n",
    "                        S[i] = self.HyperbolicTangent(S[i]) \n",
    "                y = S\n",
    "\n",
    "                # Y = [y] * [ws] - [Ts]\n",
    "                Y = y.dot(ws) - Ts \n",
    "\n",
    "                gamma = Y - e[k]\n",
    "\n",
    "                # [ws] = [ws] - a * j * 1 * Y\n",
    "                ws = ws - alpha * gamma * 1 * y \n",
    "\n",
    "                # [Ts] = [Ts] + a * j * 1\n",
    "                Ts = Ts + alpha * gamma * 1 \n",
    "\n",
    "                gamma_s = np.zeros(Lhid)\n",
    "                for i in range(Lhid):\n",
    "                    gamma_s[i] = y[i] - e[k + i]\n",
    "\n",
    "                for i in range(L):\n",
    "                    for j in range(Lhid):\n",
    "                        if funcCase == 1:\n",
    "                            w[i][j] -= alpha * gamma_s[j] * self.dSigmFunc(y[j]) * y[j]\n",
    "                        elif funcCase == 2:\n",
    "                            w[i][j] -= alpha * gamma_s[j] * self.BiSigmFunc(y[j]) * y[j]\n",
    "                        else:\n",
    "                            w[i][j] -= alpha * gamma_s[j] * self.HyperbolicTangent(y[j]) * y[j]\n",
    "\n",
    "                for i in range(Lhid):\n",
    "                    if funcCase == 1:\n",
    "                        T[i] += alpha * gamma_s[i] * self.dSigmFunc(y[j])\n",
    "                    elif funcCase == 2:\n",
    "                        T[i] += alpha * gamma_s[i] * self.BiSigmFunc(y[j])\n",
    "                    else:\n",
    "                        T[i] += alpha * gamma_s[i] * self.HyperbolicTangent(y[j])\n",
    " \n",
    "                E = 0.5 * (Y - e[k]) ** 2\n",
    "\n",
    "            eras += 1\n",
    "            valueXforGraph.append(eras)\n",
    "            valueYforGraph.append(E)\n",
    "            print('\\r%10d %32.20f' % (eras, E), end = '')\n",
    "            if E < Ee:\n",
    "                break\n",
    "        print()\n",
    "        plt.plot(valueXforGraph, valueYforGraph, graphMark, label=graphLabel)"
   ]
  },
  {
   "cell_type": "code",
   "execution_count": 2,
   "metadata": {},
   "outputs": [],
   "source": [
    "obj = lab(\n",
    "    0.1,    #a      для функции y = a cos(b x) + c sin(d x)\n",
    "    0.5,    #b      для функции y = a cos(b x) + c sin(d x)\n",
    "    0.09,   #c      для функции y = a cos(b x) + c sin(d x)\n",
    "    0.5,    #d      для функции y = a cos(b x) + c sin(d x)\n",
    "    0.1,    #step   для функции y = a cos(b x) + b sin(d x)\n",
    "    8,      #L - количество входов ИНС\n",
    "    3,      #Lhid - количество НЭ в скрытом слое\n",
    "    0.01,    #alpha - скорость обучения\n",
    "    1e-6    #Ee - средняя квадратичная ошибка, до которой мы хотим очучить сеть\n",
    ")"
   ]
  },
  {
   "cell_type": "code",
   "execution_count": 3,
   "metadata": {},
   "outputs": [
    {
     "name": "stdout",
     "output_type": "stream",
     "text": [
      "       392           0.00000099960130984633\n"
     ]
    },
    {
     "data": {
      "image/png": "[encoded data removed]",
      "text/plain": [
       "<Figure size 432x288 with 1 Axes>"
      ]
     },
     "metadata": {
      "needs_background": "light"
     },
     "output_type": "display_data"
    }
   ],
   "source": [
    "obj.alg(1, 'd-r', 'Sigmoid function')"
   ]
  },
  {
   "cell_type": "code",
   "execution_count": 4,
   "metadata": {},
   "outputs": [
    {
     "name": "stdout",
     "output_type": "stream",
     "text": [
      "     42224           0.00000099998494622475\n"
     ]
    },
    {
     "data": {
      "image/png": "[encoded data removed]",
      "text/plain": [
       "<Figure size 432x288 with 1 Axes>"
      ]
     },
     "metadata": {
      "needs_background": "light"
     },
     "output_type": "display_data"
    }
   ],
   "source": [
    "obj.alg(2, 'h-y', 'Bipolar sigmoid function')"
   ]
  },
  {
   "cell_type": "code",
   "execution_count": 7,
   "metadata": {},
   "outputs": [
    {
     "name": "stdout",
     "output_type": "stream",
     "text": [
      "     12639           0.00000099995534539331\n"
     ]
    },
    {
     "data": {
      "image/png": "[encoded data removed]",
      "text/plain": [
       "<Figure size 432x288 with 1 Axes>"
      ]
     },
     "metadata": {
      "needs_background": "light"
     },
     "output_type": "display_data"
    }
   ],
   "source": [
    "obj.alg(3, 'H-b', 'Hyperbolic tangent function')\n",
    "plt.title(\"Error change graph\") # Python write title in graph\n",
    "plt.legend() # Python write legend in graph\n",
    "plt.show() # Python open new windows and show graph"
   ]
  },
  {
   "cell_type": "markdown",
   "metadata": {},
   "source": [
    "**Вывод**: \"...\""
   ]
  }
 ],
 "metadata": {
  "kernelspec": {
   "display_name": "Python 3",
   "language": "python",
   "name": "python3"
  },
  "language_info": {
   "codemirror_mode": {
    "name": "ipython",
    "version": 3
   },
   "file_extension": ".py",
   "mimetype": "text/x-python",
   "name": "python",
   "nbconvert_exporter": "python",
   "pygments_lexer": "ipython3",
   "version": "3.8.5"
  }
 },
 "nbformat": 4,
 "nbformat_minor": 4
}
